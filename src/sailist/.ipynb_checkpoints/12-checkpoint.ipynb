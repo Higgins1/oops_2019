{
 "cells": [
  {
   "cell_type": "code",
   "execution_count": 2,
   "metadata": {},
   "outputs": [],
   "source": [
    "# https://segmentfault.com/a/1190000019053974\n",
    "\n",
    "# pip install dnspython\n",
    "import dns.resolver\n",
    "\n",
    "result = dns.resolver.query('problem_12.oops-sdu.cn', 'TXT')\n",
    "\n",
    "for ipval in result:\n",
    "    print(ipval.to_text())\n",
    "\n",
    "# \"Please try to decrypt this string: cXE6IDI1MjM4OTczOTY=\""
   ]
  },
  {
   "cell_type": "code",
   "execution_count": null,
   "metadata": {},
   "outputs": [],
   "source": [
    "import base64\n",
    "base64.b64decode('cXE6IDI1MjM4OTczOTY=')"
   ]
  }
 ],
 "metadata": {
  "kernelspec": {
   "display_name": "Python 3",
   "language": "python",
   "name": "python3"
  },
  "language_info": {
   "codemirror_mode": {
    "name": "ipython",
    "version": 3
   },
   "file_extension": ".py",
   "mimetype": "text/x-python",
   "name": "python",
   "nbconvert_exporter": "python",
   "pygments_lexer": "ipython3",
   "version": "3.7.3"
  }
 },
 "nbformat": 4,
 "nbformat_minor": 2
}
